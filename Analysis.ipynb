{
 "cells": [
  {
   "cell_type": "code",
   "execution_count": 140,
   "metadata": {
    "collapsed": true
   },
   "outputs": [],
   "source": [
    "import pandas as pd\n",
    "import numpy as np\n",
    "import seaborn as sns\n",
    "import matplotlib.pyplot as plt\n",
    "from ggplot import *\n",
    "import time\n",
    "import configparser\n",
    "import requests\n",
    "import os\n",
    "import json\n",
    "import urllib\n",
    "\n",
    "sns.set_palette(\"GnBu_d\")\n",
    "sns.set_style('whitegrid')\n",
    "\n",
    "# import hypertools as hyp\n",
    "%matplotlib inline  "
   ]
  },
  {
   "cell_type": "code",
   "execution_count": 117,
   "metadata": {
    "collapsed": true
   },
   "outputs": [],
   "source": [
    "def get_api_call_for_section(query):\n",
    "    config = configparser.ConfigParser()\n",
    "    config.read('config/config.cfg')\n",
    "    BASE_URL = config.get('GUARDIAN', 'BASE_URL')\n",
    "    API_KEY = config.get('GUARDIAN', 'API_KEY')\n",
    "\n",
    "    # url_string = BASE_URL + 'search/v2/articlesearch.json?&fq=section_name:\"' + section + '\"&sort=newest&api-key=' + API_KEY\n",
    "    url_string = BASE_URL + 'search?q=' + query + '&page-size=200&show-fields=headline,body,shorturl&api-key=' + API_KEY\n",
    "    return url_string"
   ]
  },
  {
   "cell_type": "code",
   "execution_count": 118,
   "metadata": {
    "collapsed": false
   },
   "outputs": [
    {
     "name": "stdout",
     "output_type": "stream",
     "text": [
      "main code\n",
      "make call to  https://content.guardianapis.com/search?q=Einstein&page-size=200&show-fields=headline,body,shorturl&api-key=142a2a21-def2-4ec4-8185-26eea0c9aaaa\n"
     ]
    }
   ],
   "source": [
    "print('main code')\n",
    "url_string = get_api_call_for_section('Einstein')\n",
    "print('make call to ', url_string)\n",
    "    \n",
    "req = requests.get(url_string)\n",
    "data = req.json()\n",
    "with open('data.txt', 'w') as outfile:\n",
    "    json.dump(data, outfile, indent=2, sort_keys=True)"
   ]
  },
  {
   "cell_type": "code",
   "execution_count": 119,
   "metadata": {
    "collapsed": false
   },
   "outputs": [],
   "source": [
    "with open('data.txt', 'r') as f:\n",
    "     data = json.load(f)\n",
    "    "
   ]
  },
  {
   "cell_type": "code",
   "execution_count": 120,
   "metadata": {
    "collapsed": true
   },
   "outputs": [],
   "source": [
    "search_results = data['response']['results']"
   ]
  },
  {
   "cell_type": "code",
   "execution_count": 121,
   "metadata": {
    "collapsed": false
   },
   "outputs": [
    {
     "name": "stdout",
     "output_type": "stream",
     "text": [
      "<class 'pandas.core.frame.DataFrame'>\n",
      "RangeIndex: 200 entries, 0 to 199\n",
      "Data columns (total 12 columns):\n",
      "apiUrl                200 non-null object\n",
      "fields                200 non-null object\n",
      "id                    200 non-null object\n",
      "isHosted              200 non-null bool\n",
      "pillarId              198 non-null object\n",
      "pillarName            198 non-null object\n",
      "sectionId             200 non-null object\n",
      "sectionName           200 non-null object\n",
      "type                  200 non-null object\n",
      "webPublicationDate    200 non-null object\n",
      "webTitle              200 non-null object\n",
      "webUrl                200 non-null object\n",
      "dtypes: bool(1), object(11)\n",
      "memory usage: 17.5+ KB\n"
     ]
    },
    {
     "data": {
      "text/html": [
       "<div>\n",
       "<table border=\"1\" class=\"dataframe\">\n",
       "  <thead>\n",
       "    <tr style=\"text-align: right;\">\n",
       "      <th></th>\n",
       "      <th>apiUrl</th>\n",
       "      <th>fields</th>\n",
       "      <th>id</th>\n",
       "      <th>isHosted</th>\n",
       "      <th>pillarId</th>\n",
       "      <th>pillarName</th>\n",
       "      <th>sectionId</th>\n",
       "      <th>sectionName</th>\n",
       "      <th>type</th>\n",
       "      <th>webPublicationDate</th>\n",
       "      <th>webTitle</th>\n",
       "      <th>webUrl</th>\n",
       "    </tr>\n",
       "  </thead>\n",
       "  <tbody>\n",
       "    <tr>\n",
       "      <th>0</th>\n",
       "      <td>https://content.guardianapis.com/environment/2...</td>\n",
       "      <td>{'body': '&lt;p&gt;Australia’s scientific community ...</td>\n",
       "      <td>environment/2018/jan/18/stuart-wenham-scientis...</td>\n",
       "      <td>False</td>\n",
       "      <td>pillar/news</td>\n",
       "      <td>News</td>\n",
       "      <td>environment</td>\n",
       "      <td>Environment</td>\n",
       "      <td>article</td>\n",
       "      <td>2018-01-18T06:12:29Z</td>\n",
       "      <td>Stuart Wenham: scientists pay tribute to 'Eins...</td>\n",
       "      <td>https://www.theguardian.com/environment/2018/j...</td>\n",
       "    </tr>\n",
       "    <tr>\n",
       "      <th>1</th>\n",
       "      <td>https://content.guardianapis.com/artanddesign/...</td>\n",
       "      <td>{'body': '&lt;p&gt;In 1948, I was living in New York...</td>\n",
       "      <td>artanddesign/2018/jan/03/marilyn-stafford-best...</td>\n",
       "      <td>False</td>\n",
       "      <td>pillar/arts</td>\n",
       "      <td>Arts</td>\n",
       "      <td>artanddesign</td>\n",
       "      <td>Art and design</td>\n",
       "      <td>article</td>\n",
       "      <td>2018-01-03T17:07:45Z</td>\n",
       "      <td>Marilyn Stafford's best photograph: Albert Ein...</td>\n",
       "      <td>https://www.theguardian.com/artanddesign/2018/...</td>\n",
       "    </tr>\n",
       "    <tr>\n",
       "      <th>2</th>\n",
       "      <td>https://content.guardianapis.com/science/2017/...</td>\n",
       "      <td>{'body': '&lt;p&gt;Wild haired with a bushy moustach...</td>\n",
       "      <td>science/2017/jul/25/playful-einstein-photograp...</td>\n",
       "      <td>False</td>\n",
       "      <td>pillar/news</td>\n",
       "      <td>News</td>\n",
       "      <td>science</td>\n",
       "      <td>Science</td>\n",
       "      <td>article</td>\n",
       "      <td>2017-07-25T17:40:46Z</td>\n",
       "      <td>Playful Einstein photograph goes up for auction</td>\n",
       "      <td>https://www.theguardian.com/science/2017/jul/2...</td>\n",
       "    </tr>\n",
       "    <tr>\n",
       "      <th>3</th>\n",
       "      <td>https://content.guardianapis.com/science/2017/...</td>\n",
       "      <td>{'body': '&lt;p&gt;One of the two FA Cup finals Old ...</td>\n",
       "      <td>science/2017/may/31/einstein-looked-up-the-spe...</td>\n",
       "      <td>False</td>\n",
       "      <td>pillar/news</td>\n",
       "      <td>News</td>\n",
       "      <td>science</td>\n",
       "      <td>Science</td>\n",
       "      <td>article</td>\n",
       "      <td>2017-05-31T18:06:14Z</td>\n",
       "      <td>Einstein looked up the speed of light | Brief ...</td>\n",
       "      <td>https://www.theguardian.com/science/2017/may/3...</td>\n",
       "    </tr>\n",
       "    <tr>\n",
       "      <th>4</th>\n",
       "      <td>https://content.guardianapis.com/small-busines...</td>\n",
       "      <td>{'body': '&lt;p&gt;One of the advertising world’s mo...</td>\n",
       "      <td>small-business-network/2017/jun/14/sir-john-he...</td>\n",
       "      <td>False</td>\n",
       "      <td>pillar/news</td>\n",
       "      <td>News</td>\n",
       "      <td>small-business-network</td>\n",
       "      <td>Guardian Small Business Network</td>\n",
       "      <td>article</td>\n",
       "      <td>2017-06-14T06:00:19Z</td>\n",
       "      <td>Sir John Hegarty: Einstein didn't have a brain...</td>\n",
       "      <td>https://www.theguardian.com/small-business-net...</td>\n",
       "    </tr>\n",
       "  </tbody>\n",
       "</table>\n",
       "</div>"
      ],
      "text/plain": [
       "                                              apiUrl  \\\n",
       "0  https://content.guardianapis.com/environment/2...   \n",
       "1  https://content.guardianapis.com/artanddesign/...   \n",
       "2  https://content.guardianapis.com/science/2017/...   \n",
       "3  https://content.guardianapis.com/science/2017/...   \n",
       "4  https://content.guardianapis.com/small-busines...   \n",
       "\n",
       "                                              fields  \\\n",
       "0  {'body': '<p>Australia’s scientific community ...   \n",
       "1  {'body': '<p>In 1948, I was living in New York...   \n",
       "2  {'body': '<p>Wild haired with a bushy moustach...   \n",
       "3  {'body': '<p>One of the two FA Cup finals Old ...   \n",
       "4  {'body': '<p>One of the advertising world’s mo...   \n",
       "\n",
       "                                                  id isHosted     pillarId  \\\n",
       "0  environment/2018/jan/18/stuart-wenham-scientis...    False  pillar/news   \n",
       "1  artanddesign/2018/jan/03/marilyn-stafford-best...    False  pillar/arts   \n",
       "2  science/2017/jul/25/playful-einstein-photograp...    False  pillar/news   \n",
       "3  science/2017/may/31/einstein-looked-up-the-spe...    False  pillar/news   \n",
       "4  small-business-network/2017/jun/14/sir-john-he...    False  pillar/news   \n",
       "\n",
       "  pillarName               sectionId                      sectionName  \\\n",
       "0       News             environment                      Environment   \n",
       "1       Arts            artanddesign                   Art and design   \n",
       "2       News                 science                          Science   \n",
       "3       News                 science                          Science   \n",
       "4       News  small-business-network  Guardian Small Business Network   \n",
       "\n",
       "      type    webPublicationDate  \\\n",
       "0  article  2018-01-18T06:12:29Z   \n",
       "1  article  2018-01-03T17:07:45Z   \n",
       "2  article  2017-07-25T17:40:46Z   \n",
       "3  article  2017-05-31T18:06:14Z   \n",
       "4  article  2017-06-14T06:00:19Z   \n",
       "\n",
       "                                            webTitle  \\\n",
       "0  Stuart Wenham: scientists pay tribute to 'Eins...   \n",
       "1  Marilyn Stafford's best photograph: Albert Ein...   \n",
       "2    Playful Einstein photograph goes up for auction   \n",
       "3  Einstein looked up the speed of light | Brief ...   \n",
       "4  Sir John Hegarty: Einstein didn't have a brain...   \n",
       "\n",
       "                                              webUrl  \n",
       "0  https://www.theguardian.com/environment/2018/j...  \n",
       "1  https://www.theguardian.com/artanddesign/2018/...  \n",
       "2  https://www.theguardian.com/science/2017/jul/2...  \n",
       "3  https://www.theguardian.com/science/2017/may/3...  \n",
       "4  https://www.theguardian.com/small-business-net...  "
      ]
     },
     "execution_count": 121,
     "metadata": {},
     "output_type": "execute_result"
    }
   ],
   "source": [
    "search_results_df = pd.DataFrame(search_results)\n",
    "search_results_df.info()\n",
    "search_results_df.head()"
   ]
  },
  {
   "cell_type": "code",
   "execution_count": 144,
   "metadata": {
    "collapsed": false
   },
   "outputs": [
    {
     "data": {
      "image/png": "[encoded data removed]",
      "text/plain": [
       "<matplotlib.figure.Figure at 0x12bb613c8>"
      ]
     },
     "metadata": {},
     "output_type": "display_data"
    }
   ],
   "source": [
    "g = sns.countplot(search_results_df['sectionName'], palette='GnBu_d')\n",
    "plt.xticks(rotation=90)\n",
    "plt.tight_layout()\n",
    "plt.savefig('plots/plot1.png')"
   ]
  },
  {
   "cell_type": "code",
   "execution_count": 145,
   "metadata": {
    "collapsed": false
   },
   "outputs": [
    {
     "data": {
      "image/png": "[encoded data removed]",
      "text/plain": [
       "<matplotlib.figure.Figure at 0x12bb58da0>"
      ]
     },
     "metadata": {},
     "output_type": "display_data"
    }
   ],
   "source": [
    "# format = lambda x: str(x).split('T')[0]\n",
    "def format(x):\n",
    "    split = str(x).split('-')\n",
    "    return split[0] + '-' + split[1]\n",
    "search_results_df['date'] = search_results_df['webPublicationDate'].map(format)\n",
    "search_results_df.head()\n",
    "\n",
    "search_results_df = search_results_df.sort_values('date', ascending=True)\n",
    "\n",
    "\n",
    "\n",
    "sns.countplot(search_results_df['date'], palette='GnBu_d')\n",
    "plt.xticks(rotation=90)\n",
    "\n",
    "\n",
    "plt.savefig('plots/plot2.png')"
   ]
  },
  {
   "cell_type": "code",
   "execution_count": 151,
   "metadata": {
    "collapsed": false
   },
   "outputs": [
    {
     "data": {
      "text/html": [
       "<div>\n",
       "<table border=\"1\" class=\"dataframe\">\n",
       "  <thead>\n",
       "    <tr style=\"text-align: right;\">\n",
       "      <th></th>\n",
       "      <th>count</th>\n",
       "      <th>date</th>\n",
       "      <th>months</th>\n",
       "    </tr>\n",
       "  </thead>\n",
       "  <tbody>\n",
       "    <tr>\n",
       "      <th>0</th>\n",
       "      <td>1</td>\n",
       "      <td>2014-12</td>\n",
       "      <td>0</td>\n",
       "    </tr>\n",
       "    <tr>\n",
       "      <th>1</th>\n",
       "      <td>1</td>\n",
       "      <td>2015-01</td>\n",
       "      <td>1</td>\n",
       "    </tr>\n",
       "    <tr>\n",
       "      <th>2</th>\n",
       "      <td>1</td>\n",
       "      <td>2015-04</td>\n",
       "      <td>4</td>\n",
       "    </tr>\n",
       "    <tr>\n",
       "      <th>3</th>\n",
       "      <td>2</td>\n",
       "      <td>2015-06</td>\n",
       "      <td>6</td>\n",
       "    </tr>\n",
       "    <tr>\n",
       "      <th>4</th>\n",
       "      <td>1</td>\n",
       "      <td>2015-09</td>\n",
       "      <td>9</td>\n",
       "    </tr>\n",
       "  </tbody>\n",
       "</table>\n",
       "</div>"
      ],
      "text/plain": [
       "   count     date  months\n",
       "0      1  2014-12       0\n",
       "1      1  2015-01       1\n",
       "2      1  2015-04       4\n",
       "3      2  2015-06       6\n",
       "4      1  2015-09       9"
      ]
     },
     "execution_count": 151,
     "metadata": {},
     "output_type": "execute_result"
    }
   ],
   "source": [
    "dates = search_results_df['date'].unique()\n",
    "\n",
    "origin = dates[0].split(\"-\")\n",
    "origin\n",
    "date_count = []\n",
    "for date in dates:\n",
    "    date_df = search_results_df[search_results_df['date'] == date]\n",
    "    split_date = date.split(\"-\")\n",
    "    \n",
    "    count = len(date_df)\n",
    "    months = (int(split_date[0]) - int(origin[0]))*12 + int(split_date[1]) - int(origin[1])\n",
    "    date_count.append({'date': date, 'count': count, 'months': months})\n",
    "    \n",
    "date_count = pd.DataFrame(date_count)\n",
    "date_count.head()"
   ]
  },
  {
   "cell_type": "code",
   "execution_count": 150,
   "metadata": {
    "collapsed": false
   },
   "outputs": [
    {
     "data": {
      "text/plain": [
       "['2014', '12']"
      ]
     },
     "execution_count": 150,
     "metadata": {},
     "output_type": "execute_result"
    }
   ],
   "source": [
    "origin = dates[0].split(\"-\")\n",
    "origin\n"
   ]
  },
  {
   "cell_type": "code",
   "execution_count": null,
   "metadata": {
    "collapsed": true
   },
   "outputs": [],
   "source": [
    "sns.regplot('')"
   ]
  },
  {
   "cell_type": "markdown",
   "metadata": {},
   "source": [
    "## arXiv APi"
   ]
  },
  {
   "cell_type": "code",
   "execution_count": 95,
   "metadata": {
    "collapsed": false
   },
   "outputs": [],
   "source": [
    "import xml.etree.ElementTree as ET\n",
    "\n",
    "arxivUrl = 'http://export.arxiv.org/api/query?search_query=all:Einstein'\n",
    "\n",
    "data = urllib.request.urlopen(arxivUrl).read()\n",
    "with open('arxiv.xml', 'wb') as outfile:\n",
    "    outfile.write(data)"
   ]
  },
  {
   "cell_type": "code",
   "execution_count": null,
   "metadata": {
    "collapsed": true
   },
   "outputs": [],
   "source": []
  },
  {
   "cell_type": "markdown",
   "metadata": {},
   "source": [
    "## Wikipedia"
   ]
  },
  {
   "cell_type": "code",
   "execution_count": 101,
   "metadata": {
    "collapsed": true
   },
   "outputs": [],
   "source": [
    "articles = pd.read_csv('/Volumes/Porsche/data/articles.csv')"
   ]
  },
  {
   "cell_type": "code",
   "execution_count": 102,
   "metadata": {
    "collapsed": false
   },
   "outputs": [
    {
     "data": {
      "text/html": [
       "<div>\n",
       "<table border=\"1\" class=\"dataframe\">\n",
       "  <thead>\n",
       "    <tr style=\"text-align: right;\">\n",
       "      <th></th>\n",
       "      <th>id</th>\n",
       "      <th>title</th>\n",
       "      <th>redirect</th>\n",
       "    </tr>\n",
       "  </thead>\n",
       "  <tbody>\n",
       "    <tr>\n",
       "      <th>0</th>\n",
       "      <td>10</td>\n",
       "      <td>AccessibleComputing</td>\n",
       "      <td>Computer accessibility</td>\n",
       "    </tr>\n",
       "    <tr>\n",
       "      <th>1</th>\n",
       "      <td>13</td>\n",
       "      <td>AfghanistanHistory</td>\n",
       "      <td>History of Afghanistan</td>\n",
       "    </tr>\n",
       "    <tr>\n",
       "      <th>2</th>\n",
       "      <td>14</td>\n",
       "      <td>AfghanistanGeography</td>\n",
       "      <td>Geography of Afghanistan</td>\n",
       "    </tr>\n",
       "    <tr>\n",
       "      <th>3</th>\n",
       "      <td>15</td>\n",
       "      <td>AfghanistanPeople</td>\n",
       "      <td>Demographics of Afghanistan</td>\n",
       "    </tr>\n",
       "    <tr>\n",
       "      <th>4</th>\n",
       "      <td>18</td>\n",
       "      <td>AfghanistanCommunications</td>\n",
       "      <td>Communications in Afghanistan</td>\n",
       "    </tr>\n",
       "  </tbody>\n",
       "</table>\n",
       "</div>"
      ],
      "text/plain": [
       "   id                      title                       redirect\n",
       "0  10        AccessibleComputing         Computer accessibility\n",
       "1  13         AfghanistanHistory         History of Afghanistan\n",
       "2  14       AfghanistanGeography       Geography of Afghanistan\n",
       "3  15          AfghanistanPeople    Demographics of Afghanistan\n",
       "4  18  AfghanistanCommunications  Communications in Afghanistan"
      ]
     },
     "execution_count": 102,
     "metadata": {},
     "output_type": "execute_result"
    }
   ],
   "source": [
    "articles.head()"
   ]
  },
  {
   "cell_type": "code",
   "execution_count": null,
   "metadata": {
    "collapsed": true
   },
   "outputs": [],
   "source": []
  }
 ],
 "metadata": {
  "anaconda-cloud": {},
  "kernelspec": {
   "display_name": "Python [default]",
   "language": "python",
   "name": "python3"
  },
  "language_info": {
   "codemirror_mode": {
    "name": "ipython",
    "version": 3
   },
   "file_extension": ".py",
   "mimetype": "text/x-python",
   "name": "python",
   "nbconvert_exporter": "python",
   "pygments_lexer": "ipython3",
   "version": "3.5.2"
  }
 },
 "nbformat": 4,
 "nbformat_minor": 1
}
